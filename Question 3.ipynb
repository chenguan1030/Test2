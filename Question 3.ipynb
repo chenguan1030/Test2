{
 "cells": [
  {
   "cell_type": "code",
   "execution_count": 1,
   "id": "34a53965",
   "metadata": {},
   "outputs": [
    {
     "ename": "IndentationError",
     "evalue": "unexpected indent (2942344540.py, line 42)",
     "output_type": "error",
     "traceback": [
      "\u001b[1;36m  Cell \u001b[1;32mIn[1], line 42\u001b[1;36m\u001b[0m\n\u001b[1;33m    response = requests.get(api_url)\u001b[0m\n\u001b[1;37m    ^\u001b[0m\n\u001b[1;31mIndentationError\u001b[0m\u001b[1;31m:\u001b[0m unexpected indent\n"
     ]
    }
   ],
   "source": [
    "#import library\n",
    "import requests\n",
    "    \n",
    "number_of_days = int(input('Please enter the number of day for the forecast(1 to 16)'))\n",
    "\n",
    "try:\n",
    "    #insert the link\n",
    "    if number_of_days == 1:\n",
    "        api_url = \"https://api.open-meteo.com/v1/forecast?latitude=2.5&longitude=112.5&hourly=temperature_2m&timezone=Asia%2FSingapore&forecast_days=1\"\n",
    "        response = requests.get(api_url)\n",
    "    elif number_of_days == 2:\n",
    "        api_url = \"https://api.open-meteo.com/v1/forecast?latitude=2.5&longitude=112.5&hourly=temperature_2m&timezone=Asia%2FSingapore&forecast_days=2\"\n",
    "        response = requests.get(api_url)\n",
    "    elif number_of_days == 3:\n",
    "        api_url = \"https://api.open-meteo.com/v1/forecast?latitude=2.5&longitude=112.5&hourly=temperature_2m&timezone=Asia%2FSingapore&forecast_days=3\"\n",
    "    elif number_of_days == 4:\n",
    "        api_url = \"https://api.open-meteo.com/v1/forecast?latitude=2.5&longitude=112.5&hourly=temperature_2m&timezone=Asia%2FSingapore&forecast_days=4\"\n",
    "        response = requests.get(api_url)        \n",
    "    elif number_of_days == 5:\n",
    "        api_url = \"https://api.open-meteo.com/v1/forecast?latitude=2.5&longitude=112.5&hourly=temperature_2m&timezone=Asia%2FSingapore&forecast_days=5\"\n",
    "        response = requests.get(api_url) \n",
    "    elif number_of_days == 6:\n",
    "        api_url = \"https://api.open-meteo.com/v1/forecast?latitude=2.5&longitude=112.5&hourly=temperature_2m&timezone=Asia%2FSingapore&forecast_days=6\"\n",
    "        response = requests.get(api_url) \n",
    "    elif number_of_days == 7:\n",
    "        api_url = \"https://api.open-meteo.com/v1/forecast?latitude=2.5&longitude=112.5&hourly=temperature_2m&timezone=Asia%2FSingapore&forecast_days=7\"\n",
    "        response = requests.get(api_url) \n",
    "    elif number_of_days == 8:\n",
    "        api_url = \"https://api.open-meteo.com/v1/forecast?latitude=2.5&longitude=112.5&hourly=temperature_2m&timezone=Asia%2FSingapore&forecast_days=8\"\n",
    "        response = requests.get(api_url) \n",
    "    elif number_of_days == 9:\n",
    "        api_url = \"https://api.open-meteo.com/v1/forecast?latitude=2.5&longitude=112.5&hourly=temperature_2m&timezone=Asia%2FSingapore&forecast_days=9\"\n",
    "        response = requests.get(api_url) \n",
    "    elif number_of_days == 10:\n",
    "        api_url = \"https://api.open-meteo.com/v1/forecast?latitude=2.5&longitude=112.5&hourly=temperature_2m&timezone=Asia%2FSingapore&forecast_days=10\"\n",
    "        response = requests.get(api_url) \n",
    "    elif number_of_days == 11:\n",
    "        api_url = \"https://api.open-meteo.com/v1/forecast?latitude=2.5&longitude=112.5&hourly=temperature_2m&timezone=Asia%2FSingapore&forecast_days=11\"\n",
    "        response = requests.get(api_url) \n",
    "    elif number_of_days == 12:\n",
    "        api_url = \"https://api.open-meteo.com/v1/forecast?latitude=2.5&longitude=112.5&hourly=temperature_2m&timezone=Asia%2FSingapore&forecast_days=12\"\n",
    "         response = requests.get(api_url) \n",
    "    elif number_of_days == 13:\n",
    "        api_url = \"https://api.open-meteo.com/v1/forecast?latitude=2.5&longitude=112.5&hourly=temperature_2m&timezone=Asia%2FSingapore&forecast_days=13\"\n",
    "        response = requests.get(api_url) \n",
    "    elif number_of_days == 14:\n",
    "        api_url = \"https://api.open-meteo.com/v1/forecast?latitude=2.5&longitude=112.5&hourly=temperature_2m&timezone=Asia%2FSingapore&forecast_days=14\"\n",
    "        response = requests.get(api_url) \n",
    "    elif number_of_days == 15:\n",
    "        api_url = \"https://api.open-meteo.com/v1/forecast?latitude=2.5&longitude=112.5&hourly=temperature_2m&timezone=Asia%2FSingapore&forecast_days=15\"\n",
    "        response = requests.get(api_url) \n",
    "    elif number_of_days == 16:\n",
    "        api_url = \"https://api.open-meteo.com/v1/forecast?latitude=2.5&longitude=112.5&hourly=temperature_2m&timezone=Asia%2FSingapore&forecast_days=16\"\n",
    "        response = requests.get(api_url) \n",
    "    else:\n",
    "        print('Please enter an valid number of days')\n",
    "\n",
    "    data = response.json()\n",
    "\n",
    "    time = data(\"hourly['time']\")\n",
    "    temperature = data['hourly[temperature_2m]']\n",
    "\n",
    "except error as e:\n",
    "    print(f\"Failed to retrieve data.\")\n",
    "    \n",
    "plt.figure()\n",
    "plt.plot(time,temperature,'r',label='Hourly Temperature Trend')\n",
    "plt.title(f'Hourly temperature data for {number_of_days}')\n",
    "plt.xlabel('Time')\n",
    "plt.ylabel('Temperature')\n",
    "plt.show()"
   ]
  },
  {
   "cell_type": "code",
   "execution_count": null,
   "id": "a6c07cb8",
   "metadata": {},
   "outputs": [],
   "source": []
  }
 ],
 "metadata": {
  "kernelspec": {
   "display_name": "Python 3 (ipykernel)",
   "language": "python",
   "name": "python3"
  },
  "language_info": {
   "codemirror_mode": {
    "name": "ipython",
    "version": 3
   },
   "file_extension": ".py",
   "mimetype": "text/x-python",
   "name": "python",
   "nbconvert_exporter": "python",
   "pygments_lexer": "ipython3",
   "version": "3.11.5"
  }
 },
 "nbformat": 4,
 "nbformat_minor": 5
}
