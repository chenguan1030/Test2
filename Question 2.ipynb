{
 "cells": [
  {
   "cell_type": "code",
   "execution_count": 8,
   "id": "1b37103d",
   "metadata": {},
   "outputs": [
    {
     "name": "stdout",
     "output_type": "stream",
     "text": [
      "The solution of this system of linear equation is x = 4.500000000000002 , y = -7.5000000000000036 , z = 6.500000000000002\n"
     ]
    }
   ],
   "source": [
    "#import necessary libraries\n",
    "import numpy as np\n",
    "from scipy.linalg import solve\n",
    "\n",
    "#Coeffiecient Matrix\n",
    "A = np.array([[2,4,6],\n",
    "             [5,3,2],\n",
    "             [7,8,9]])\n",
    "\n",
    "#Constant Matrix\n",
    "B = np.array([18,13,30])\n",
    "\n",
    "#Using the solve function to find the solution x, y and z to the system of equations\n",
    "solution = solve(A,B)\n",
    "print('The solution of this system of linear equation is x =',solution[0],', y =',solution[1],', z =',solution[2])"
   ]
  },
  {
   "cell_type": "code",
   "execution_count": null,
   "id": "b9cdf6dd",
   "metadata": {},
   "outputs": [],
   "source": []
  }
 ],
 "metadata": {
  "kernelspec": {
   "display_name": "Python 3 (ipykernel)",
   "language": "python",
   "name": "python3"
  },
  "language_info": {
   "codemirror_mode": {
    "name": "ipython",
    "version": 3
   },
   "file_extension": ".py",
   "mimetype": "text/x-python",
   "name": "python",
   "nbconvert_exporter": "python",
   "pygments_lexer": "ipython3",
   "version": "3.11.5"
  }
 },
 "nbformat": 4,
 "nbformat_minor": 5
}
